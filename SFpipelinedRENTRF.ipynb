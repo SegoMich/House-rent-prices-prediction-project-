{
 "cells": [
  {
   "cell_type": "markdown",
   "id": "b5c621f9",
   "metadata": {},
   "source": [
    "### Steps\n",
    "<ol>\n",
    "<li>Data Preparation</li>\n",
    "    <ol>\n",
    "        <li>Data Exporation</li>\n",
    "        <li>Data cleaning</li>\n",
    "        <li>Data Transform</li>\n",
    "    </ol>\n",
    "<li>Model Training</li>\n",
    "<li>Model Tuning</li> \n",
    "<li>Model Evaluation</li>\n",
    "<li>Making Predictions</li>\n",
    "</ol>"
   ]
  },
  {
   "cell_type": "code",
   "execution_count": 1,
   "id": "659b5004",
   "metadata": {},
   "outputs": [],
   "source": [
    "# importing the libraries\n",
    "import pandas as pd\n",
    "import numpy as np\n",
    "import matplotlib.pyplot as plt\n",
    "import seaborn as sns\n",
    "from sklearn.ensemble import RandomForestRegressor\n",
    "from sklearn.model_selection import train_test_split\n",
    "from sklearn.metrics import mean_squared_error,accuracy_score,precision_score,recall_score,f1_score\n",
    "from sklearn.preprocessing  import LabelEncoder\n"
   ]
  },
  {
   "cell_type": "markdown",
   "id": "d45a753e",
   "metadata": {},
   "source": [
    "### Data Exploration"
   ]
  },
  {
   "cell_type": "code",
   "execution_count": 2,
   "id": "56fa82c2",
   "metadata": {},
   "outputs": [
    {
     "data": {
      "text/html": [
       "<div>\n",
       "<style scoped>\n",
       "    .dataframe tbody tr th:only-of-type {\n",
       "        vertical-align: middle;\n",
       "    }\n",
       "\n",
       "    .dataframe tbody tr th {\n",
       "        vertical-align: top;\n",
       "    }\n",
       "\n",
       "    .dataframe thead th {\n",
       "        text-align: right;\n",
       "    }\n",
       "</style>\n",
       "<table border=\"1\" class=\"dataframe\">\n",
       "  <thead>\n",
       "    <tr style=\"text-align: right;\">\n",
       "      <th></th>\n",
       "      <th>price</th>\n",
       "      <th>sqft</th>\n",
       "      <th>beds</th>\n",
       "      <th>bath</th>\n",
       "      <th>laundry</th>\n",
       "      <th>pets</th>\n",
       "      <th>housing_type</th>\n",
       "      <th>parking</th>\n",
       "      <th>hood_district</th>\n",
       "    </tr>\n",
       "  </thead>\n",
       "  <tbody>\n",
       "    <tr>\n",
       "      <th>0</th>\n",
       "      <td>6800</td>\n",
       "      <td>1600</td>\n",
       "      <td>2</td>\n",
       "      <td>2.0</td>\n",
       "      <td>in-unit</td>\n",
       "      <td>no pets</td>\n",
       "      <td>multi</td>\n",
       "      <td>protected</td>\n",
       "      <td>7</td>\n",
       "    </tr>\n",
       "    <tr>\n",
       "      <th>1</th>\n",
       "      <td>3500</td>\n",
       "      <td>550</td>\n",
       "      <td>1</td>\n",
       "      <td>1.0</td>\n",
       "      <td>in-unit</td>\n",
       "      <td>both</td>\n",
       "      <td>multi</td>\n",
       "      <td>protected</td>\n",
       "      <td>7</td>\n",
       "    </tr>\n",
       "    <tr>\n",
       "      <th>2</th>\n",
       "      <td>5100</td>\n",
       "      <td>1300</td>\n",
       "      <td>2</td>\n",
       "      <td>1.0</td>\n",
       "      <td>in-unit</td>\n",
       "      <td>both</td>\n",
       "      <td>multi</td>\n",
       "      <td>no parking</td>\n",
       "      <td>7</td>\n",
       "    </tr>\n",
       "    <tr>\n",
       "      <th>3</th>\n",
       "      <td>9000</td>\n",
       "      <td>3500</td>\n",
       "      <td>3</td>\n",
       "      <td>2.5</td>\n",
       "      <td>in-unit</td>\n",
       "      <td>no pets</td>\n",
       "      <td>multi</td>\n",
       "      <td>protected</td>\n",
       "      <td>7</td>\n",
       "    </tr>\n",
       "    <tr>\n",
       "      <th>4</th>\n",
       "      <td>3100</td>\n",
       "      <td>561</td>\n",
       "      <td>1</td>\n",
       "      <td>1.0</td>\n",
       "      <td>no laundry</td>\n",
       "      <td>both</td>\n",
       "      <td>multi</td>\n",
       "      <td>no parking</td>\n",
       "      <td>7</td>\n",
       "    </tr>\n",
       "    <tr>\n",
       "      <th>5</th>\n",
       "      <td>3800</td>\n",
       "      <td>800</td>\n",
       "      <td>2</td>\n",
       "      <td>1.0</td>\n",
       "      <td>on-site</td>\n",
       "      <td>cats</td>\n",
       "      <td>multi</td>\n",
       "      <td>protected</td>\n",
       "      <td>9</td>\n",
       "    </tr>\n",
       "    <tr>\n",
       "      <th>6</th>\n",
       "      <td>3100</td>\n",
       "      <td>750</td>\n",
       "      <td>1</td>\n",
       "      <td>1.0</td>\n",
       "      <td>in-unit</td>\n",
       "      <td>no pets</td>\n",
       "      <td>multi</td>\n",
       "      <td>protected</td>\n",
       "      <td>8</td>\n",
       "    </tr>\n",
       "    <tr>\n",
       "      <th>7</th>\n",
       "      <td>3000</td>\n",
       "      <td>650</td>\n",
       "      <td>1</td>\n",
       "      <td>1.0</td>\n",
       "      <td>on-site</td>\n",
       "      <td>both</td>\n",
       "      <td>multi</td>\n",
       "      <td>no parking</td>\n",
       "      <td>7</td>\n",
       "    </tr>\n",
       "    <tr>\n",
       "      <th>8</th>\n",
       "      <td>3000</td>\n",
       "      <td>650</td>\n",
       "      <td>1</td>\n",
       "      <td>1.0</td>\n",
       "      <td>on-site</td>\n",
       "      <td>both</td>\n",
       "      <td>multi</td>\n",
       "      <td>protected</td>\n",
       "      <td>7</td>\n",
       "    </tr>\n",
       "    <tr>\n",
       "      <th>9</th>\n",
       "      <td>3200</td>\n",
       "      <td>650</td>\n",
       "      <td>1</td>\n",
       "      <td>1.0</td>\n",
       "      <td>in-unit</td>\n",
       "      <td>cats</td>\n",
       "      <td>multi</td>\n",
       "      <td>protected</td>\n",
       "      <td>9</td>\n",
       "    </tr>\n",
       "  </tbody>\n",
       "</table>\n",
       "</div>"
      ],
      "text/plain": [
       "   price  sqft  beds  bath      laundry      pets housing_type      parking  \\\n",
       "0   6800  1600     2   2.0      in-unit   no pets        multi    protected   \n",
       "1   3500   550     1   1.0      in-unit      both        multi    protected   \n",
       "2   5100  1300     2   1.0      in-unit      both        multi   no parking   \n",
       "3   9000  3500     3   2.5      in-unit   no pets        multi    protected   \n",
       "4   3100   561     1   1.0   no laundry      both        multi   no parking   \n",
       "5   3800   800     2   1.0      on-site      cats        multi    protected   \n",
       "6   3100   750     1   1.0      in-unit   no pets        multi    protected   \n",
       "7   3000   650     1   1.0      on-site      both        multi   no parking   \n",
       "8   3000   650     1   1.0      on-site      both        multi    protected   \n",
       "9   3200   650     1   1.0      in-unit      cats        multi    protected   \n",
       "\n",
       "   hood_district  \n",
       "0              7  \n",
       "1              7  \n",
       "2              7  \n",
       "3              7  \n",
       "4              7  \n",
       "5              9  \n",
       "6              8  \n",
       "7              7  \n",
       "8              7  \n",
       "9              9  "
      ]
     },
     "execution_count": 2,
     "metadata": {},
     "output_type": "execute_result"
    }
   ],
   "source": [
    "# Read in the data\n",
    "main_df = pd.read_csv('sf_house_rent_pricesCopy.csv')\n",
    "main_df.head(10)"
   ]
  },
  {
   "cell_type": "code",
   "execution_count": 3,
   "id": "da321b85",
   "metadata": {},
   "outputs": [
    {
     "data": {
      "text/html": [
       "<div>\n",
       "<style scoped>\n",
       "    .dataframe tbody tr th:only-of-type {\n",
       "        vertical-align: middle;\n",
       "    }\n",
       "\n",
       "    .dataframe tbody tr th {\n",
       "        vertical-align: top;\n",
       "    }\n",
       "\n",
       "    .dataframe thead th {\n",
       "        text-align: right;\n",
       "    }\n",
       "</style>\n",
       "<table border=\"1\" class=\"dataframe\">\n",
       "  <thead>\n",
       "    <tr style=\"text-align: right;\">\n",
       "      <th></th>\n",
       "      <th>price</th>\n",
       "      <th>sqft</th>\n",
       "      <th>beds</th>\n",
       "      <th>bath</th>\n",
       "      <th>laundry</th>\n",
       "      <th>pets</th>\n",
       "      <th>housing_type</th>\n",
       "      <th>parking</th>\n",
       "      <th>hood_district</th>\n",
       "    </tr>\n",
       "  </thead>\n",
       "  <tbody>\n",
       "    <tr>\n",
       "      <th>979</th>\n",
       "      <td>4700</td>\n",
       "      <td>1750</td>\n",
       "      <td>2</td>\n",
       "      <td>2.0</td>\n",
       "      <td>in-unit</td>\n",
       "      <td>no pets</td>\n",
       "      <td>multi</td>\n",
       "      <td>protected</td>\n",
       "      <td>9</td>\n",
       "    </tr>\n",
       "    <tr>\n",
       "      <th>980</th>\n",
       "      <td>4700</td>\n",
       "      <td>1750</td>\n",
       "      <td>2</td>\n",
       "      <td>2.0</td>\n",
       "      <td>in-unit</td>\n",
       "      <td>no pets</td>\n",
       "      <td>multi</td>\n",
       "      <td>protected</td>\n",
       "      <td>9</td>\n",
       "    </tr>\n",
       "    <tr>\n",
       "      <th>981</th>\n",
       "      <td>2000</td>\n",
       "      <td>500</td>\n",
       "      <td>0</td>\n",
       "      <td>1.0</td>\n",
       "      <td>on-site</td>\n",
       "      <td>no pets</td>\n",
       "      <td>multi</td>\n",
       "      <td>off-street</td>\n",
       "      <td>4</td>\n",
       "    </tr>\n",
       "    <tr>\n",
       "      <th>982</th>\n",
       "      <td>2700</td>\n",
       "      <td>600</td>\n",
       "      <td>1</td>\n",
       "      <td>1.0</td>\n",
       "      <td>on-site</td>\n",
       "      <td>cats</td>\n",
       "      <td>multi</td>\n",
       "      <td>protected</td>\n",
       "      <td>1</td>\n",
       "    </tr>\n",
       "    <tr>\n",
       "      <th>983</th>\n",
       "      <td>4099</td>\n",
       "      <td>1300</td>\n",
       "      <td>3</td>\n",
       "      <td>1.0</td>\n",
       "      <td>no laundry</td>\n",
       "      <td>both</td>\n",
       "      <td>multi</td>\n",
       "      <td>no parking</td>\n",
       "      <td>5</td>\n",
       "    </tr>\n",
       "    <tr>\n",
       "      <th>984</th>\n",
       "      <td>3595</td>\n",
       "      <td>1200</td>\n",
       "      <td>2</td>\n",
       "      <td>1.0</td>\n",
       "      <td>on-site</td>\n",
       "      <td>cats</td>\n",
       "      <td>multi</td>\n",
       "      <td>no parking</td>\n",
       "      <td>9</td>\n",
       "    </tr>\n",
       "    <tr>\n",
       "      <th>985</th>\n",
       "      <td>4695</td>\n",
       "      <td>1700</td>\n",
       "      <td>3</td>\n",
       "      <td>2.0</td>\n",
       "      <td>in-unit</td>\n",
       "      <td>no pets</td>\n",
       "      <td>multi</td>\n",
       "      <td>no parking</td>\n",
       "      <td>7</td>\n",
       "    </tr>\n",
       "    <tr>\n",
       "      <th>986</th>\n",
       "      <td>1950</td>\n",
       "      <td>450</td>\n",
       "      <td>1</td>\n",
       "      <td>1.0</td>\n",
       "      <td>no laundry</td>\n",
       "      <td>no pets</td>\n",
       "      <td>single</td>\n",
       "      <td>off-street</td>\n",
       "      <td>3</td>\n",
       "    </tr>\n",
       "    <tr>\n",
       "      <th>987</th>\n",
       "      <td>3600</td>\n",
       "      <td>1100</td>\n",
       "      <td>3</td>\n",
       "      <td>1.0</td>\n",
       "      <td>in-unit</td>\n",
       "      <td>no pets</td>\n",
       "      <td>multi</td>\n",
       "      <td>no parking</td>\n",
       "      <td>8</td>\n",
       "    </tr>\n",
       "    <tr>\n",
       "      <th>988</th>\n",
       "      <td>3625</td>\n",
       "      <td>1032</td>\n",
       "      <td>2</td>\n",
       "      <td>2.0</td>\n",
       "      <td>in-unit</td>\n",
       "      <td>no pets</td>\n",
       "      <td>multi</td>\n",
       "      <td>protected</td>\n",
       "      <td>8</td>\n",
       "    </tr>\n",
       "  </tbody>\n",
       "</table>\n",
       "</div>"
      ],
      "text/plain": [
       "     price  sqft  beds  bath      laundry      pets housing_type      parking  \\\n",
       "979   4700  1750     2   2.0      in-unit   no pets        multi    protected   \n",
       "980   4700  1750     2   2.0      in-unit   no pets        multi    protected   \n",
       "981   2000   500     0   1.0      on-site   no pets        multi   off-street   \n",
       "982   2700   600     1   1.0      on-site      cats        multi    protected   \n",
       "983   4099  1300     3   1.0   no laundry      both        multi   no parking   \n",
       "984   3595  1200     2   1.0      on-site      cats        multi   no parking   \n",
       "985   4695  1700     3   2.0      in-unit   no pets        multi   no parking   \n",
       "986   1950   450     1   1.0   no laundry   no pets       single   off-street   \n",
       "987   3600  1100     3   1.0      in-unit   no pets        multi   no parking   \n",
       "988   3625  1032     2   2.0      in-unit   no pets        multi    protected   \n",
       "\n",
       "     hood_district  \n",
       "979              9  \n",
       "980              9  \n",
       "981              4  \n",
       "982              1  \n",
       "983              5  \n",
       "984              9  \n",
       "985              7  \n",
       "986              3  \n",
       "987              8  \n",
       "988              8  "
      ]
     },
     "execution_count": 3,
     "metadata": {},
     "output_type": "execute_result"
    }
   ],
   "source": [
    "# preview the data\n",
    "main_df.tail(10)"
   ]
  },
  {
   "cell_type": "code",
   "execution_count": 4,
   "id": "87c9ad70",
   "metadata": {},
   "outputs": [
    {
     "data": {
      "text/html": [
       "<div>\n",
       "<style scoped>\n",
       "    .dataframe tbody tr th:only-of-type {\n",
       "        vertical-align: middle;\n",
       "    }\n",
       "\n",
       "    .dataframe tbody tr th {\n",
       "        vertical-align: top;\n",
       "    }\n",
       "\n",
       "    .dataframe thead th {\n",
       "        text-align: right;\n",
       "    }\n",
       "</style>\n",
       "<table border=\"1\" class=\"dataframe\">\n",
       "  <thead>\n",
       "    <tr style=\"text-align: right;\">\n",
       "      <th></th>\n",
       "      <th>price</th>\n",
       "      <th>sqft</th>\n",
       "      <th>beds</th>\n",
       "      <th>bath</th>\n",
       "      <th>laundry</th>\n",
       "      <th>pets</th>\n",
       "      <th>housing_type</th>\n",
       "      <th>parking</th>\n",
       "      <th>hood_district</th>\n",
       "    </tr>\n",
       "  </thead>\n",
       "  <tbody>\n",
       "    <tr>\n",
       "      <th>249</th>\n",
       "      <td>4395</td>\n",
       "      <td>1035</td>\n",
       "      <td>2</td>\n",
       "      <td>2.0</td>\n",
       "      <td>in-unit</td>\n",
       "      <td>both</td>\n",
       "      <td>multi</td>\n",
       "      <td>no parking</td>\n",
       "      <td>6</td>\n",
       "    </tr>\n",
       "    <tr>\n",
       "      <th>927</th>\n",
       "      <td>12000</td>\n",
       "      <td>3300</td>\n",
       "      <td>4</td>\n",
       "      <td>4.0</td>\n",
       "      <td>in-unit</td>\n",
       "      <td>both</td>\n",
       "      <td>multi</td>\n",
       "      <td>protected</td>\n",
       "      <td>9</td>\n",
       "    </tr>\n",
       "    <tr>\n",
       "      <th>856</th>\n",
       "      <td>3000</td>\n",
       "      <td>845</td>\n",
       "      <td>1</td>\n",
       "      <td>1.0</td>\n",
       "      <td>on-site</td>\n",
       "      <td>no pets</td>\n",
       "      <td>multi</td>\n",
       "      <td>protected</td>\n",
       "      <td>6</td>\n",
       "    </tr>\n",
       "    <tr>\n",
       "      <th>831</th>\n",
       "      <td>4400</td>\n",
       "      <td>1900</td>\n",
       "      <td>2</td>\n",
       "      <td>2.0</td>\n",
       "      <td>in-unit</td>\n",
       "      <td>no pets</td>\n",
       "      <td>single</td>\n",
       "      <td>protected</td>\n",
       "      <td>1</td>\n",
       "    </tr>\n",
       "    <tr>\n",
       "      <th>398</th>\n",
       "      <td>3995</td>\n",
       "      <td>933</td>\n",
       "      <td>2</td>\n",
       "      <td>2.0</td>\n",
       "      <td>in-unit</td>\n",
       "      <td>both</td>\n",
       "      <td>multi</td>\n",
       "      <td>no parking</td>\n",
       "      <td>9</td>\n",
       "    </tr>\n",
       "    <tr>\n",
       "      <th>788</th>\n",
       "      <td>2199</td>\n",
       "      <td>575</td>\n",
       "      <td>1</td>\n",
       "      <td>1.0</td>\n",
       "      <td>on-site</td>\n",
       "      <td>both</td>\n",
       "      <td>multi</td>\n",
       "      <td>no parking</td>\n",
       "      <td>2</td>\n",
       "    </tr>\n",
       "    <tr>\n",
       "      <th>378</th>\n",
       "      <td>2800</td>\n",
       "      <td>950</td>\n",
       "      <td>2</td>\n",
       "      <td>1.0</td>\n",
       "      <td>on-site</td>\n",
       "      <td>no pets</td>\n",
       "      <td>multi</td>\n",
       "      <td>no parking</td>\n",
       "      <td>7</td>\n",
       "    </tr>\n",
       "    <tr>\n",
       "      <th>955</th>\n",
       "      <td>2420</td>\n",
       "      <td>729</td>\n",
       "      <td>1</td>\n",
       "      <td>1.0</td>\n",
       "      <td>no laundry</td>\n",
       "      <td>cats</td>\n",
       "      <td>single</td>\n",
       "      <td>no parking</td>\n",
       "      <td>3</td>\n",
       "    </tr>\n",
       "    <tr>\n",
       "      <th>352</th>\n",
       "      <td>2795</td>\n",
       "      <td>950</td>\n",
       "      <td>1</td>\n",
       "      <td>1.0</td>\n",
       "      <td>on-site</td>\n",
       "      <td>both</td>\n",
       "      <td>multi</td>\n",
       "      <td>no parking</td>\n",
       "      <td>8</td>\n",
       "    </tr>\n",
       "    <tr>\n",
       "      <th>696</th>\n",
       "      <td>2700</td>\n",
       "      <td>660</td>\n",
       "      <td>1</td>\n",
       "      <td>1.0</td>\n",
       "      <td>in-unit</td>\n",
       "      <td>no pets</td>\n",
       "      <td>multi</td>\n",
       "      <td>no parking</td>\n",
       "      <td>8</td>\n",
       "    </tr>\n",
       "  </tbody>\n",
       "</table>\n",
       "</div>"
      ],
      "text/plain": [
       "     price  sqft  beds  bath      laundry      pets housing_type      parking  \\\n",
       "249   4395  1035     2   2.0      in-unit      both        multi   no parking   \n",
       "927  12000  3300     4   4.0      in-unit      both        multi    protected   \n",
       "856   3000   845     1   1.0      on-site   no pets        multi    protected   \n",
       "831   4400  1900     2   2.0      in-unit   no pets       single    protected   \n",
       "398   3995   933     2   2.0      in-unit      both        multi   no parking   \n",
       "788   2199   575     1   1.0      on-site      both        multi   no parking   \n",
       "378   2800   950     2   1.0      on-site   no pets        multi   no parking   \n",
       "955   2420   729     1   1.0   no laundry      cats       single   no parking   \n",
       "352   2795   950     1   1.0      on-site      both        multi   no parking   \n",
       "696   2700   660     1   1.0      in-unit   no pets        multi   no parking   \n",
       "\n",
       "     hood_district  \n",
       "249              6  \n",
       "927              9  \n",
       "856              6  \n",
       "831              1  \n",
       "398              9  \n",
       "788              2  \n",
       "378              7  \n",
       "955              3  \n",
       "352              8  \n",
       "696              8  "
      ]
     },
     "execution_count": 4,
     "metadata": {},
     "output_type": "execute_result"
    }
   ],
   "source": [
    "# preview the data\n",
    "\n",
    "main_df.sample(10)"
   ]
  },
  {
   "cell_type": "code",
   "execution_count": 5,
   "id": "167a405c",
   "metadata": {},
   "outputs": [
    {
     "data": {
      "text/html": [
       "<div>\n",
       "<style scoped>\n",
       "    .dataframe tbody tr th:only-of-type {\n",
       "        vertical-align: middle;\n",
       "    }\n",
       "\n",
       "    .dataframe tbody tr th {\n",
       "        vertical-align: top;\n",
       "    }\n",
       "\n",
       "    .dataframe thead th {\n",
       "        text-align: right;\n",
       "    }\n",
       "</style>\n",
       "<table border=\"1\" class=\"dataframe\">\n",
       "  <thead>\n",
       "    <tr style=\"text-align: right;\">\n",
       "      <th></th>\n",
       "      <th>price</th>\n",
       "      <th>sqft</th>\n",
       "      <th>beds</th>\n",
       "      <th>bath</th>\n",
       "      <th>hood_district</th>\n",
       "    </tr>\n",
       "  </thead>\n",
       "  <tbody>\n",
       "    <tr>\n",
       "      <th>count</th>\n",
       "      <td>989.000000</td>\n",
       "      <td>989.000000</td>\n",
       "      <td>989.000000</td>\n",
       "      <td>989.000000</td>\n",
       "      <td>989.000000</td>\n",
       "    </tr>\n",
       "    <tr>\n",
       "      <th>mean</th>\n",
       "      <td>3595.035389</td>\n",
       "      <td>976.765420</td>\n",
       "      <td>1.679474</td>\n",
       "      <td>1.390293</td>\n",
       "      <td>7.052578</td>\n",
       "    </tr>\n",
       "    <tr>\n",
       "      <th>std</th>\n",
       "      <td>1546.222670</td>\n",
       "      <td>474.629798</td>\n",
       "      <td>1.076710</td>\n",
       "      <td>0.562714</td>\n",
       "      <td>2.404716</td>\n",
       "    </tr>\n",
       "    <tr>\n",
       "      <th>min</th>\n",
       "      <td>750.000000</td>\n",
       "      <td>150.000000</td>\n",
       "      <td>0.000000</td>\n",
       "      <td>1.000000</td>\n",
       "      <td>1.000000</td>\n",
       "    </tr>\n",
       "    <tr>\n",
       "      <th>25%</th>\n",
       "      <td>2650.000000</td>\n",
       "      <td>650.000000</td>\n",
       "      <td>1.000000</td>\n",
       "      <td>1.000000</td>\n",
       "      <td>6.000000</td>\n",
       "    </tr>\n",
       "    <tr>\n",
       "      <th>50%</th>\n",
       "      <td>3300.000000</td>\n",
       "      <td>900.000000</td>\n",
       "      <td>2.000000</td>\n",
       "      <td>1.000000</td>\n",
       "      <td>8.000000</td>\n",
       "    </tr>\n",
       "    <tr>\n",
       "      <th>75%</th>\n",
       "      <td>4242.000000</td>\n",
       "      <td>1200.000000</td>\n",
       "      <td>2.000000</td>\n",
       "      <td>2.000000</td>\n",
       "      <td>9.000000</td>\n",
       "    </tr>\n",
       "    <tr>\n",
       "      <th>max</th>\n",
       "      <td>19000.000000</td>\n",
       "      <td>3500.000000</td>\n",
       "      <td>6.000000</td>\n",
       "      <td>4.000000</td>\n",
       "      <td>10.000000</td>\n",
       "    </tr>\n",
       "  </tbody>\n",
       "</table>\n",
       "</div>"
      ],
      "text/plain": [
       "              price         sqft        beds        bath  hood_district\n",
       "count    989.000000   989.000000  989.000000  989.000000     989.000000\n",
       "mean    3595.035389   976.765420    1.679474    1.390293       7.052578\n",
       "std     1546.222670   474.629798    1.076710    0.562714       2.404716\n",
       "min      750.000000   150.000000    0.000000    1.000000       1.000000\n",
       "25%     2650.000000   650.000000    1.000000    1.000000       6.000000\n",
       "50%     3300.000000   900.000000    2.000000    1.000000       8.000000\n",
       "75%     4242.000000  1200.000000    2.000000    2.000000       9.000000\n",
       "max    19000.000000  3500.000000    6.000000    4.000000      10.000000"
      ]
     },
     "execution_count": 5,
     "metadata": {},
     "output_type": "execute_result"
    }
   ],
   "source": [
    "# statistical summary of the data\n",
    "main_df.describe()"
   ]
  },
  {
   "cell_type": "code",
   "execution_count": 6,
   "id": "d01745c1",
   "metadata": {},
   "outputs": [
    {
     "name": "stdout",
     "output_type": "stream",
     "text": [
      "<class 'pandas.core.frame.DataFrame'>\n",
      "RangeIndex: 989 entries, 0 to 988\n",
      "Data columns (total 9 columns):\n",
      " #   Column         Non-Null Count  Dtype  \n",
      "---  ------         --------------  -----  \n",
      " 0   price          989 non-null    int64  \n",
      " 1   sqft           989 non-null    int64  \n",
      " 2   beds           989 non-null    int64  \n",
      " 3   bath           989 non-null    float64\n",
      " 4   laundry        989 non-null    object \n",
      " 5   pets           989 non-null    object \n",
      " 6   housing_type   989 non-null    object \n",
      " 7   parking        989 non-null    object \n",
      " 8   hood_district  989 non-null    int64  \n",
      "dtypes: float64(1), int64(4), object(4)\n",
      "memory usage: 69.7+ KB\n"
     ]
    }
   ],
   "source": [
    "# understanding the data\n",
    "main_df.info()"
   ]
  },
  {
   "cell_type": "code",
   "execution_count": 7,
   "id": "0be16cce",
   "metadata": {},
   "outputs": [
    {
     "data": {
      "text/plain": [
       "price              int64\n",
       "sqft               int64\n",
       "beds               int64\n",
       "bath             float64\n",
       "laundry           object\n",
       "pets              object\n",
       "housing_type      object\n",
       "parking           object\n",
       "hood_district      int64\n",
       "dtype: object"
      ]
     },
     "execution_count": 7,
     "metadata": {},
     "output_type": "execute_result"
    }
   ],
   "source": [
    "# check the data types\n",
    "main_df.dtypes"
   ]
  },
  {
   "cell_type": "code",
   "execution_count": 8,
   "id": "9fe52120",
   "metadata": {},
   "outputs": [
    {
     "data": {
      "text/plain": [
       "(989, 9)"
      ]
     },
     "execution_count": 8,
     "metadata": {},
     "output_type": "execute_result"
    }
   ],
   "source": [
    "# checking the shape  of the dataset\n",
    "main_df.shape"
   ]
  },
  {
   "cell_type": "code",
   "execution_count": 9,
   "id": "ba6cb2cb",
   "metadata": {},
   "outputs": [
    {
     "data": {
      "text/plain": [
       "Index(['price', 'sqft', 'beds', 'bath', 'laundry', 'pets', 'housing_type',\n",
       "       'parking', 'hood_district'],\n",
       "      dtype='object')"
      ]
     },
     "execution_count": 9,
     "metadata": {},
     "output_type": "execute_result"
    }
   ],
   "source": [
    "# checking columns\n",
    "main_df.columns"
   ]
  },
  {
   "cell_type": "markdown",
   "id": "51e81073",
   "metadata": {},
   "source": [
    "<H1>Data Cleaning</H1>"
   ]
  },
  {
   "cell_type": "markdown",
   "id": "abb34d28",
   "metadata": {},
   "source": [
    "### Checking for completeness "
   ]
  },
  {
   "cell_type": "code",
   "execution_count": 10,
   "id": "ad8fcf63",
   "metadata": {},
   "outputs": [
    {
     "data": {
      "text/plain": [
       "price            0\n",
       "sqft             0\n",
       "beds             0\n",
       "bath             0\n",
       "laundry          0\n",
       "pets             0\n",
       "housing_type     0\n",
       "parking          0\n",
       "hood_district    0\n",
       "dtype: int64"
      ]
     },
     "execution_count": 10,
     "metadata": {},
     "output_type": "execute_result"
    }
   ],
   "source": [
    "# checking for missing values\n",
    "main_df.isna().sum()"
   ]
  },
  {
   "cell_type": "markdown",
   "id": "e55dac5a",
   "metadata": {},
   "source": [
    "###  Checking for consistency"
   ]
  },
  {
   "cell_type": "code",
   "execution_count": 11,
   "id": "e9bf6361",
   "metadata": {},
   "outputs": [
    {
     "data": {
      "text/plain": [
       "28"
      ]
     },
     "execution_count": 11,
     "metadata": {},
     "output_type": "execute_result"
    }
   ],
   "source": [
    "# checking for duplicates\n",
    "main_df.duplicated().sum()"
   ]
  },
  {
   "cell_type": "code",
   "execution_count": 12,
   "id": "263d9665",
   "metadata": {},
   "outputs": [],
   "source": [
    "# dealing with duplicates\n",
    "main_df.drop_duplicates(inplace=True)"
   ]
  },
  {
   "cell_type": "code",
   "execution_count": 13,
   "id": "4edc17c5",
   "metadata": {},
   "outputs": [
    {
     "data": {
      "text/plain": [
       "0"
      ]
     },
     "execution_count": 13,
     "metadata": {},
     "output_type": "execute_result"
    }
   ],
   "source": [
    "main_df.duplicated().sum()"
   ]
  },
  {
   "cell_type": "code",
   "execution_count": null,
   "id": "6af0dbec",
   "metadata": {},
   "outputs": [],
   "source": []
  },
  {
   "cell_type": "code",
   "execution_count": 14,
   "id": "c65c6609",
   "metadata": {},
   "outputs": [
    {
     "data": {
      "text/plain": [
       "(961, 9)"
      ]
     },
     "execution_count": 14,
     "metadata": {},
     "output_type": "execute_result"
    }
   ],
   "source": [
    "main_df.shape"
   ]
  },
  {
   "cell_type": "code",
   "execution_count": 15,
   "id": "9517e175",
   "metadata": {},
   "outputs": [
    {
     "data": {
      "text/plain": [
       "4500    28\n",
       "3000    21\n",
       "3995    20\n",
       "3500    20\n",
       "2800    19\n",
       "        ..\n",
       "4675     1\n",
       "2517     1\n",
       "6999     1\n",
       "2880     1\n",
       "4099     1\n",
       "Name: price, Length: 369, dtype: int64"
      ]
     },
     "execution_count": 15,
     "metadata": {},
     "output_type": "execute_result"
    }
   ],
   "source": [
    "main_df.price.value_counts()"
   ]
  },
  {
   "cell_type": "code",
   "execution_count": 16,
   "id": "7987476a",
   "metadata": {},
   "outputs": [
    {
     "data": {
      "text/plain": [
       "price              int64\n",
       "sqft               int64\n",
       "beds               int64\n",
       "bath             float64\n",
       "laundry           object\n",
       "pets              object\n",
       "housing_type      object\n",
       "parking           object\n",
       "hood_district      int64\n",
       "dtype: object"
      ]
     },
     "execution_count": 16,
     "metadata": {},
     "output_type": "execute_result"
    }
   ],
   "source": [
    "main_df.dtypes"
   ]
  },
  {
   "cell_type": "code",
   "execution_count": 17,
   "id": "bd8c9e31",
   "metadata": {},
   "outputs": [],
   "source": [
    "# creating a dataset to be used for visualization  \n",
    "visual_df = main_df.copy()"
   ]
  },
  {
   "cell_type": "code",
   "execution_count": 18,
   "id": "5415f650",
   "metadata": {},
   "outputs": [
    {
     "data": {
      "text/html": [
       "<div>\n",
       "<style scoped>\n",
       "    .dataframe tbody tr th:only-of-type {\n",
       "        vertical-align: middle;\n",
       "    }\n",
       "\n",
       "    .dataframe tbody tr th {\n",
       "        vertical-align: top;\n",
       "    }\n",
       "\n",
       "    .dataframe thead th {\n",
       "        text-align: right;\n",
       "    }\n",
       "</style>\n",
       "<table border=\"1\" class=\"dataframe\">\n",
       "  <thead>\n",
       "    <tr style=\"text-align: right;\">\n",
       "      <th></th>\n",
       "      <th>price</th>\n",
       "      <th>sqft</th>\n",
       "      <th>beds</th>\n",
       "      <th>bath</th>\n",
       "    </tr>\n",
       "    <tr>\n",
       "      <th>hood_district</th>\n",
       "      <th></th>\n",
       "      <th></th>\n",
       "      <th></th>\n",
       "      <th></th>\n",
       "    </tr>\n",
       "  </thead>\n",
       "  <tbody>\n",
       "    <tr>\n",
       "      <th>1</th>\n",
       "      <td>3453.833333</td>\n",
       "      <td>1043.416667</td>\n",
       "      <td>1.854167</td>\n",
       "      <td>1.406250</td>\n",
       "    </tr>\n",
       "    <tr>\n",
       "      <th>2</th>\n",
       "      <td>2950.725490</td>\n",
       "      <td>872.588235</td>\n",
       "      <td>1.647059</td>\n",
       "      <td>1.284314</td>\n",
       "    </tr>\n",
       "    <tr>\n",
       "      <th>3</th>\n",
       "      <td>2825.000000</td>\n",
       "      <td>871.571429</td>\n",
       "      <td>1.857143</td>\n",
       "      <td>1.357143</td>\n",
       "    </tr>\n",
       "    <tr>\n",
       "      <th>4</th>\n",
       "      <td>4731.272727</td>\n",
       "      <td>1484.818182</td>\n",
       "      <td>2.363636</td>\n",
       "      <td>1.863636</td>\n",
       "    </tr>\n",
       "    <tr>\n",
       "      <th>5</th>\n",
       "      <td>3938.611650</td>\n",
       "      <td>1057.407767</td>\n",
       "      <td>2.038835</td>\n",
       "      <td>1.383495</td>\n",
       "    </tr>\n",
       "    <tr>\n",
       "      <th>6</th>\n",
       "      <td>3671.918033</td>\n",
       "      <td>955.672131</td>\n",
       "      <td>1.836066</td>\n",
       "      <td>1.393443</td>\n",
       "    </tr>\n",
       "    <tr>\n",
       "      <th>7</th>\n",
       "      <td>4092.390244</td>\n",
       "      <td>1107.804878</td>\n",
       "      <td>1.845528</td>\n",
       "      <td>1.406504</td>\n",
       "    </tr>\n",
       "    <tr>\n",
       "      <th>8</th>\n",
       "      <td>3250.984536</td>\n",
       "      <td>848.835052</td>\n",
       "      <td>1.422680</td>\n",
       "      <td>1.239691</td>\n",
       "    </tr>\n",
       "    <tr>\n",
       "      <th>9</th>\n",
       "      <td>3720.836420</td>\n",
       "      <td>977.500000</td>\n",
       "      <td>1.601852</td>\n",
       "      <td>1.469136</td>\n",
       "    </tr>\n",
       "    <tr>\n",
       "      <th>10</th>\n",
       "      <td>2594.968750</td>\n",
       "      <td>948.562500</td>\n",
       "      <td>1.656250</td>\n",
       "      <td>1.406250</td>\n",
       "    </tr>\n",
       "  </tbody>\n",
       "</table>\n",
       "</div>"
      ],
      "text/plain": [
       "                     price         sqft      beds      bath\n",
       "hood_district                                              \n",
       "1              3453.833333  1043.416667  1.854167  1.406250\n",
       "2              2950.725490   872.588235  1.647059  1.284314\n",
       "3              2825.000000   871.571429  1.857143  1.357143\n",
       "4              4731.272727  1484.818182  2.363636  1.863636\n",
       "5              3938.611650  1057.407767  2.038835  1.383495\n",
       "6              3671.918033   955.672131  1.836066  1.393443\n",
       "7              4092.390244  1107.804878  1.845528  1.406504\n",
       "8              3250.984536   848.835052  1.422680  1.239691\n",
       "9              3720.836420   977.500000  1.601852  1.469136\n",
       "10             2594.968750   948.562500  1.656250  1.406250"
      ]
     },
     "execution_count": 18,
     "metadata": {},
     "output_type": "execute_result"
    }
   ],
   "source": [
    "main_df.groupby('hood_district').mean()"
   ]
  },
  {
   "cell_type": "code",
   "execution_count": 19,
   "id": "2e7654ae",
   "metadata": {},
   "outputs": [
    {
     "data": {
      "text/html": [
       "<div>\n",
       "<style scoped>\n",
       "    .dataframe tbody tr th:only-of-type {\n",
       "        vertical-align: middle;\n",
       "    }\n",
       "\n",
       "    .dataframe tbody tr th {\n",
       "        vertical-align: top;\n",
       "    }\n",
       "\n",
       "    .dataframe thead th {\n",
       "        text-align: right;\n",
       "    }\n",
       "</style>\n",
       "<table border=\"1\" class=\"dataframe\">\n",
       "  <thead>\n",
       "    <tr style=\"text-align: right;\">\n",
       "      <th></th>\n",
       "      <th>price</th>\n",
       "      <th>sqft</th>\n",
       "      <th>beds</th>\n",
       "      <th>bath</th>\n",
       "      <th>laundry</th>\n",
       "      <th>pets</th>\n",
       "      <th>housing_type</th>\n",
       "      <th>parking</th>\n",
       "      <th>hood_district</th>\n",
       "    </tr>\n",
       "  </thead>\n",
       "  <tbody>\n",
       "    <tr>\n",
       "      <th>624</th>\n",
       "      <td>1980</td>\n",
       "      <td>572</td>\n",
       "      <td>1</td>\n",
       "      <td>1.0</td>\n",
       "      <td>in-unit</td>\n",
       "      <td>both</td>\n",
       "      <td>multi</td>\n",
       "      <td>protected</td>\n",
       "      <td>10</td>\n",
       "    </tr>\n",
       "    <tr>\n",
       "      <th>845</th>\n",
       "      <td>1595</td>\n",
       "      <td>420</td>\n",
       "      <td>0</td>\n",
       "      <td>1.0</td>\n",
       "      <td>no laundry</td>\n",
       "      <td>no pets</td>\n",
       "      <td>multi</td>\n",
       "      <td>no parking</td>\n",
       "      <td>8</td>\n",
       "    </tr>\n",
       "    <tr>\n",
       "      <th>128</th>\n",
       "      <td>2800</td>\n",
       "      <td>675</td>\n",
       "      <td>2</td>\n",
       "      <td>1.0</td>\n",
       "      <td>no laundry</td>\n",
       "      <td>no pets</td>\n",
       "      <td>multi</td>\n",
       "      <td>no parking</td>\n",
       "      <td>8</td>\n",
       "    </tr>\n",
       "    <tr>\n",
       "      <th>603</th>\n",
       "      <td>3895</td>\n",
       "      <td>950</td>\n",
       "      <td>2</td>\n",
       "      <td>1.0</td>\n",
       "      <td>on-site</td>\n",
       "      <td>both</td>\n",
       "      <td>multi</td>\n",
       "      <td>no parking</td>\n",
       "      <td>1</td>\n",
       "    </tr>\n",
       "    <tr>\n",
       "      <th>5</th>\n",
       "      <td>3800</td>\n",
       "      <td>800</td>\n",
       "      <td>2</td>\n",
       "      <td>1.0</td>\n",
       "      <td>on-site</td>\n",
       "      <td>cats</td>\n",
       "      <td>multi</td>\n",
       "      <td>protected</td>\n",
       "      <td>9</td>\n",
       "    </tr>\n",
       "    <tr>\n",
       "      <th>378</th>\n",
       "      <td>2800</td>\n",
       "      <td>950</td>\n",
       "      <td>2</td>\n",
       "      <td>1.0</td>\n",
       "      <td>on-site</td>\n",
       "      <td>no pets</td>\n",
       "      <td>multi</td>\n",
       "      <td>no parking</td>\n",
       "      <td>7</td>\n",
       "    </tr>\n",
       "    <tr>\n",
       "      <th>283</th>\n",
       "      <td>1800</td>\n",
       "      <td>450</td>\n",
       "      <td>1</td>\n",
       "      <td>1.0</td>\n",
       "      <td>no laundry</td>\n",
       "      <td>no pets</td>\n",
       "      <td>multi</td>\n",
       "      <td>off-street</td>\n",
       "      <td>3</td>\n",
       "    </tr>\n",
       "    <tr>\n",
       "      <th>748</th>\n",
       "      <td>1895</td>\n",
       "      <td>500</td>\n",
       "      <td>1</td>\n",
       "      <td>1.0</td>\n",
       "      <td>in-unit</td>\n",
       "      <td>no pets</td>\n",
       "      <td>multi</td>\n",
       "      <td>no parking</td>\n",
       "      <td>10</td>\n",
       "    </tr>\n",
       "    <tr>\n",
       "      <th>669</th>\n",
       "      <td>1749</td>\n",
       "      <td>260</td>\n",
       "      <td>0</td>\n",
       "      <td>1.0</td>\n",
       "      <td>on-site</td>\n",
       "      <td>no pets</td>\n",
       "      <td>multi</td>\n",
       "      <td>no parking</td>\n",
       "      <td>8</td>\n",
       "    </tr>\n",
       "    <tr>\n",
       "      <th>3</th>\n",
       "      <td>9000</td>\n",
       "      <td>3500</td>\n",
       "      <td>3</td>\n",
       "      <td>2.5</td>\n",
       "      <td>in-unit</td>\n",
       "      <td>no pets</td>\n",
       "      <td>multi</td>\n",
       "      <td>protected</td>\n",
       "      <td>7</td>\n",
       "    </tr>\n",
       "  </tbody>\n",
       "</table>\n",
       "</div>"
      ],
      "text/plain": [
       "     price  sqft  beds  bath      laundry      pets housing_type      parking  \\\n",
       "624   1980   572     1   1.0      in-unit      both        multi    protected   \n",
       "845   1595   420     0   1.0   no laundry   no pets        multi   no parking   \n",
       "128   2800   675     2   1.0   no laundry   no pets        multi   no parking   \n",
       "603   3895   950     2   1.0      on-site      both        multi   no parking   \n",
       "5     3800   800     2   1.0      on-site      cats        multi    protected   \n",
       "378   2800   950     2   1.0      on-site   no pets        multi   no parking   \n",
       "283   1800   450     1   1.0   no laundry   no pets        multi   off-street   \n",
       "748   1895   500     1   1.0      in-unit   no pets        multi   no parking   \n",
       "669   1749   260     0   1.0      on-site   no pets        multi   no parking   \n",
       "3     9000  3500     3   2.5      in-unit   no pets        multi    protected   \n",
       "\n",
       "     hood_district  \n",
       "624             10  \n",
       "845              8  \n",
       "128              8  \n",
       "603              1  \n",
       "5                9  \n",
       "378              7  \n",
       "283              3  \n",
       "748             10  \n",
       "669              8  \n",
       "3                7  "
      ]
     },
     "execution_count": 19,
     "metadata": {},
     "output_type": "execute_result"
    }
   ],
   "source": [
    "main_df.sample(10)"
   ]
  },
  {
   "cell_type": "code",
   "execution_count": 20,
   "id": "3e512e33",
   "metadata": {
    "scrolled": true
   },
   "outputs": [
    {
     "data": {
      "text/plain": [
       "Index(['price', 'sqft', 'beds', 'bath', 'laundry', 'pets', 'housing_type',\n",
       "       'parking', 'hood_district'],\n",
       "      dtype='object')"
      ]
     },
     "execution_count": 20,
     "metadata": {},
     "output_type": "execute_result"
    }
   ],
   "source": [
    "main_df.columns"
   ]
  },
  {
   "cell_type": "code",
   "execution_count": 21,
   "id": "bee4f00e",
   "metadata": {},
   "outputs": [
    {
     "data": {
      "image/png": "[encoded data removed]",
      "text/plain": [
       "<Figure size 1000x800 with 1 Axes>"
      ]
     },
     "metadata": {},
     "output_type": "display_data"
    },
    {
     "data": {
      "text/plain": [
       "<Figure size 640x480 with 0 Axes>"
      ]
     },
     "metadata": {},
     "output_type": "display_data"
    }
   ],
   "source": [
    "fig , ax = plt.subplots(figsize=(10,8))\n",
    "sns.countplot(x = visual_df['hood_district'],ax=ax)\n",
    "plt.title('Rooms per District',fontsize=20)\n",
    "plt.xlabel('District',fontsize=15)\n",
    "plt.ylabel('Number of Rooms',fontsize=15)\n",
    "plt.xticks(fontsize=8)\n",
    "plt.yticks(fontsize=15)\n",
    "plt.show()\n",
    "plt.savefig('RoomsPerDistrict.png')"
   ]
  },
  {
   "cell_type": "code",
   "execution_count": 22,
   "id": "ce88788c",
   "metadata": {},
   "outputs": [
    {
     "data": {
      "image/png": "[encoded data removed]",
      "text/plain": [
       "<Figure size 1000x800 with 1 Axes>"
      ]
     },
     "metadata": {},
     "output_type": "display_data"
    },
    {
     "data": {
      "text/plain": [
       "<Figure size 640x480 with 0 Axes>"
      ]
     },
     "metadata": {},
     "output_type": "display_data"
    }
   ],
   "source": [
    "fig , ax = plt.subplots(figsize=(10,8))\n",
    "sns.countplot(x = visual_df['bath'],ax=ax)\n",
    "plt.title('Bathroom per Rental',fontsize=20)\n",
    "plt.xlabel('Bathroom',fontsize=15)\n",
    "plt.ylabel('Number of Rentals',fontsize=15)\n",
    "plt.xticks(fontsize=15)\n",
    "plt.yticks(fontsize=15)\n",
    "plt.show()\n",
    "plt.savefig('BathroomperRental.png')"
   ]
  },
  {
   "cell_type": "code",
   "execution_count": 23,
   "id": "1f5340fa",
   "metadata": {},
   "outputs": [
    {
     "data": {
      "text/plain": [
       "array([[<AxesSubplot:title={'center':'price'}>,\n",
       "        <AxesSubplot:title={'center':'sqft'}>],\n",
       "       [<AxesSubplot:title={'center':'beds'}>,\n",
       "        <AxesSubplot:title={'center':'bath'}>],\n",
       "       [<AxesSubplot:title={'center':'hood_district'}>, <AxesSubplot:>]],\n",
       "      dtype=object)"
      ]
     },
     "execution_count": 23,
     "metadata": {},
     "output_type": "execute_result"
    },
    {
     "data": {
      "image/png": "[encoded data removed]",
      "text/plain": [
       "<Figure size 1500x1200 with 6 Axes>"
      ]
     },
     "metadata": {},
     "output_type": "display_data"
    }
   ],
   "source": [
    "# checking the distribution of the data\n",
    "main_df.hist(figsize=(15,12))"
   ]
  },
  {
   "cell_type": "code",
   "execution_count": 24,
   "id": "03b61ea3",
   "metadata": {},
   "outputs": [
    {
     "data": {
      "image/png": "[encoded data removed]",
      "text/plain": [
       "<Figure size 1000x500 with 1 Axes>"
      ]
     },
     "metadata": {},
     "output_type": "display_data"
    }
   ],
   "source": [
    "fig, ax = plt.subplots(figsize=(10, 5))\n",
    "pd.crosstab(visual_df.bath,visual_df.beds).plot(kind='bar',ax=ax).legend()\n",
    "plt.title('No Bathrooms per Rental Beds  ',fontsize=20)\n",
    "plt.xlabel('Bathrooms',fontsize=15)\n",
    "plt.ylabel('Beds',fontsize=15)\n",
    "plt.xticks(rotation=0,fontsize=15)\n",
    "plt.yticks(fontsize=15)\n",
    "plt.savefig('BedsVsBath.png')"
   ]
  },
  {
   "cell_type": "code",
   "execution_count": 25,
   "id": "d4049088",
   "metadata": {},
   "outputs": [
    {
     "data": {
      "image/png": "[encoded data removed]",
      "text/plain": [
       "<Figure size 1000x500 with 1 Axes>"
      ]
     },
     "metadata": {},
     "output_type": "display_data"
    }
   ],
   "source": [
    "fig, ax = plt.subplots(figsize=(10, 5))\n",
    "pd.crosstab(visual_df.housing_type,visual_df.parking).plot(kind='bar',ax=ax).legend()\n",
    "plt.title('No Parking per Housing Type',fontsize=20)\n",
    "plt.xlabel('Housing Type',fontsize=15)\n",
    "plt.ylabel('Parking',fontsize=15)\n",
    "plt.xticks(rotation=0,fontsize=15)\n",
    "plt.yticks(fontsize=15)\n",
    "plt.savefig('HousingTypeVsParking.png')"
   ]
  },
  {
   "cell_type": "code",
   "execution_count": 38,
   "id": "818504e2",
   "metadata": {},
   "outputs": [
    {
     "name": "stderr",
     "output_type": "stream",
     "text": [
      "C:\\Users\\Mich\\AppData\\Local\\Temp\\ipykernel_9084\\369832812.py:7: DeprecationWarning: `np.bool` is a deprecated alias for the builtin `bool`. To silence this warning, use `bool` by itself. Doing this will not modify any behavior and is safe. If you specifically wanted the numpy scalar type, use `np.bool_` here.\n",
      "Deprecated in NumPy 1.20; for more details and guidance: https://numpy.org/devdocs/release/1.20.0-notes.html#deprecations\n",
      "  mask = np.zeros_like(corr, dtype=np.bool)\n"
     ]
    },
    {
     "data": {
      "image/png": "[encoded data removed]",
      "text/plain": [
       "<Figure size 1200x1000 with 2 Axes>"
      ]
     },
     "metadata": {},
     "output_type": "display_data"
    },
    {
     "data": {
      "text/plain": [
       "<Figure size 640x480 with 0 Axes>"
      ]
     },
     "metadata": {},
     "output_type": "display_data"
    }
   ],
   "source": [
    "#checking correlation between features\n",
    "sns.set(style=\"darkgrid\")\n",
    "\n",
    "\n",
    "corr = main_df.corr()\n",
    "\n",
    "mask = np.zeros_like(corr, dtype=np.bool)\n",
    "mask[np.triu_indices_from(mask)] = True\n",
    "\n",
    "vf, ax = plt.subplots(figsize=(12, 10))\n",
    "\n",
    "sns.heatmap(corr, mask=mask, vmax=.3, center=0,annot=True,\n",
    "            square=True, linewidths=.5, cbar_kws={\"shrink\": .5})\n",
    "\n",
    "plt.show()\n",
    "plt.savefig('Correlation.png')"
   ]
  },
  {
   "cell_type": "markdown",
   "id": "5e8d2c19",
   "metadata": {},
   "source": [
    "<H1>Data Cleaning</H1>"
   ]
  },
  {
   "cell_type": "markdown",
   "id": "789711a3",
   "metadata": {},
   "source": [
    "### Checking for completeness "
   ]
  },
  {
   "cell_type": "code",
   "execution_count": 26,
   "id": "c7aa81c8",
   "metadata": {},
   "outputs": [
    {
     "data": {
      "text/plain": [
       "price            0\n",
       "sqft             0\n",
       "beds             0\n",
       "bath             0\n",
       "laundry          0\n",
       "pets             0\n",
       "housing_type     0\n",
       "parking          0\n",
       "hood_district    0\n",
       "dtype: int64"
      ]
     },
     "execution_count": 26,
     "metadata": {},
     "output_type": "execute_result"
    }
   ],
   "source": [
    "# checking for missing values\n",
    "main_df.isna().sum()"
   ]
  },
  {
   "cell_type": "markdown",
   "id": "0a861d33",
   "metadata": {},
   "source": [
    "### Checking for consistency"
   ]
  },
  {
   "cell_type": "code",
   "execution_count": 27,
   "id": "ac834223",
   "metadata": {},
   "outputs": [
    {
     "data": {
      "text/plain": [
       "(961, 9)"
      ]
     },
     "execution_count": 27,
     "metadata": {},
     "output_type": "execute_result"
    }
   ],
   "source": [
    "main_df.shape"
   ]
  },
  {
   "cell_type": "code",
   "execution_count": 28,
   "id": "99f6e2cc",
   "metadata": {},
   "outputs": [
    {
     "data": {
      "text/plain": [
       "0"
      ]
     },
     "execution_count": 28,
     "metadata": {},
     "output_type": "execute_result"
    }
   ],
   "source": [
    "# checking for duplicates\n",
    "main_df.duplicated().sum()"
   ]
  },
  {
   "cell_type": "code",
   "execution_count": 29,
   "id": "9e3eaaa4",
   "metadata": {},
   "outputs": [],
   "source": [
    "# dropping duplicates\n",
    "main_df.drop_duplicates(inplace=True)"
   ]
  },
  {
   "cell_type": "code",
   "execution_count": 30,
   "id": "3cd8466d",
   "metadata": {},
   "outputs": [
    {
     "data": {
      "text/plain": [
       "(961, 9)"
      ]
     },
     "execution_count": 30,
     "metadata": {},
     "output_type": "execute_result"
    }
   ],
   "source": [
    "main_df.shape"
   ]
  },
  {
   "cell_type": "markdown",
   "id": "d8661090",
   "metadata": {},
   "source": [
    "### Data Transform"
   ]
  },
  {
   "cell_type": "code",
   "execution_count": 31,
   "id": "ca8e506d",
   "metadata": {},
   "outputs": [],
   "source": [
    "number=LabelEncoder()\n",
    "main_df['laundry']=number.fit_transform(main_df.laundry)\n",
    "main_df['pets']=number.fit_transform(main_df.pets)\n",
    "main_df['housing_type']=number.fit_transform(main_df.housing_type) \n",
    "main_df['parking']=number.fit_transform(main_df.parking) "
   ]
  },
  {
   "cell_type": "markdown",
   "id": "b977455b",
   "metadata": {},
   "source": [
    "### Model Training"
   ]
  },
  {
   "cell_type": "code",
   "execution_count": 32,
   "id": "1869a0ba",
   "metadata": {},
   "outputs": [],
   "source": [
    "\n",
    "# splitting the data into train and test\n",
    "X = main_df.drop('price', axis=1)\n",
    "y = main_df['price']\n",
    "X_train, X_test, y_train, y_test = train_test_split(X, y, test_size=0.25, random_state=42)"
   ]
  },
  {
   "cell_type": "code",
   "execution_count": 33,
   "id": "8a56b286",
   "metadata": {},
   "outputs": [],
   "source": [
    "# Create a random forest regressor\n",
    "rf = RandomForestRegressor(n_estimators=500, random_state=67)"
   ]
  },
  {
   "cell_type": "code",
   "execution_count": 34,
   "id": "e59b1036",
   "metadata": {},
   "outputs": [
    {
     "data": {
      "text/plain": [
       "RandomForestRegressor(n_estimators=500, random_state=67)"
      ]
     },
     "execution_count": 34,
     "metadata": {},
     "output_type": "execute_result"
    }
   ],
   "source": [
    "# Fit the random forest to the training data\n",
    "rf.fit(X_train, y_train)"
   ]
  },
  {
   "cell_type": "code",
   "execution_count": 35,
   "id": "18a928da",
   "metadata": {},
   "outputs": [],
   "source": [
    "# Make predictions on the test data\n",
    "y_pred = rf.predict(X_test)"
   ]
  },
  {
   "cell_type": "code",
   "execution_count": 36,
   "id": "440077b6",
   "metadata": {},
   "outputs": [
    {
     "name": "stdout",
     "output_type": "stream",
     "text": [
      "Mean Squared Error: 743196.8044943736\n",
      "Accuracy: 0.7542555642050796\n"
     ]
    }
   ],
   "source": [
    "# Calculate mean squared error\n",
    "mse = mean_squared_error(y_test, y_pred)\n",
    "acc=rf.score(X_test,y_test)\n",
    "print(\"Mean Squared Error:\", mse) \n",
    "print(\"Accuracy:\",acc)\n",
    " "
   ]
  },
  {
   "cell_type": "markdown",
   "id": "a80df041",
   "metadata": {},
   "source": [
    "### Making Predictions"
   ]
  },
  {
   "cell_type": "code",
   "execution_count": 37,
   "id": "7e6fb2ee",
   "metadata": {},
   "outputs": [
    {
     "name": "stdout",
     "output_type": "stream",
     "text": [
      "Predicted rent price: [4383.462]\n",
      "Predicted rent price: [3395.884]\n"
     ]
    },
    {
     "name": "stderr",
     "output_type": "stream",
     "text": [
      "C:\\Users\\Mich\\anaconda3\\lib\\site-packages\\sklearn\\base.py:450: UserWarning: X does not have valid feature names, but RandomForestRegressor was fitted with feature names\n",
      "  warnings.warn(\n"
     ]
    }
   ],
   "source": [
    "new_data = pd.DataFrame({\n",
    "    'sqft':[1200],\n",
    "    'beds': [3],\n",
    "    'bath':[2],\n",
    "    'laundry': ['in-unit'],\n",
    "    'pets': ['both'],\n",
    "    'housing_type': ['multi'],\n",
    "    'parking': ['single'],\n",
    "    'hood_district': [1]\n",
    "    })\n",
    "new_data['laundry']=number.fit_transform(new_data.laundry)\n",
    "new_data['pets']=number.fit_transform(new_data.pets)\n",
    "new_data['housing_type']=number.fit_transform(new_data.housing_type) \n",
    "new_data['parking']=number.fit_transform(new_data.parking)\n",
    "prediction = rf.predict(new_data) \n",
    "print(\"Predicted rent price:\", prediction)\n",
    " \n",
    "prediction = rf.predict([[1022,1,3,2,1,3,1,10]]) \n",
    "print(\"Predicted rent price:\", prediction)"
   ]
  }
 ],
 "metadata": {
  "kernelspec": {
   "display_name": "Python 3 (ipykernel)",
   "language": "python",
   "name": "python3"
  },
  "language_info": {
   "codemirror_mode": {
    "name": "ipython",
    "version": 3
   },
   "file_extension": ".py",
   "mimetype": "text/x-python",
   "name": "python",
   "nbconvert_exporter": "python",
   "pygments_lexer": "ipython3",
   "version": "3.9.13"
  }
 },
 "nbformat": 4,
 "nbformat_minor": 5
}
